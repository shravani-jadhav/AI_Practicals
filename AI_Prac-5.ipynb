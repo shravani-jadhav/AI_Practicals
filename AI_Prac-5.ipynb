{
 "cells": [
  {
   "cell_type": "code",
   "execution_count": null,
   "id": "b1366612-7e3c-4918-8b4c-9e0f1d8571f6",
   "metadata": {},
   "outputs": [],
   "source": [
    "import nltk\n",
    "from nltk.chat.util import Chat, reflections\n",
    "import tkinter as tk\n",
    "from tkinter import scrolledtext\n",
    "\n",
    "# Define chatbot responses using pairs\n",
    "pairs = [\n",
    "    [r\"hi|hello|hey\", [\"Hello! How can I assist you today?\", \"Hi there! How can I help?\"]],\n",
    "    [r\"how are you?\", [\"I'm just a bot, but I'm doing fine! How about you?\", \"I'm a chatbot, so I'm always good! How are you?\"]],\n",
    "    [r\"(.*)your name?\", [\"I'm a chatbot, here to assist you.\"]],\n",
    "    [r\"bye|goodbye\", [\"Goodbye! Have a great day!\", \"Bye! Take care!\"]],\n",
    "    [r\"(.*)\", [\"I'm not sure how to respond to that. Could you rephrase?\"]]\n",
    "]\n",
    "\n",
    "# Create chatbot\n",
    "chatbot = Chat(pairs, reflections)\n",
    "\n",
    "def send_message():\n",
    "    user_input = user_entry.get()\n",
    "    if user_input.strip() != \"\":\n",
    "        chat_history.insert(tk.END, f\"You: {user_input}\\n\")\n",
    "        response = chatbot.respond(user_input)\n",
    "        chat_history.insert(tk.END, f\"Bot: {response}\\n\\n\")\n",
    "        user_entry.delete(0, tk.END)\n",
    "\n",
    "# GUI setup\n",
    "root = tk.Tk()\n",
    "root.title(\"Simple Chatbot\")\n",
    "\n",
    "chat_history = scrolledtext.ScrolledText(root, wrap=tk.WORD, width=50, height=15)\n",
    "chat_history.pack(padx=10, pady=10)\n",
    "\n",
    "user_entry = tk.Entry(root, width=40)\n",
    "user_entry.pack(padx=10, pady=5)\n",
    "user_entry.bind(\"<Return>\", lambda event: send_message())  # Press Enter to send\n",
    "\n",
    "send_button = tk.Button(root, text=\"Send\", command=send_message)\n",
    "send_button.pack(pady=5)\n",
    "\n",
    "root.mainloop()\n"
   ]
  },
  {
   "cell_type": "code",
   "execution_count": null,
   "id": "4652b355-6e87-4a9c-99d2-0b9e33c115a9",
   "metadata": {},
   "outputs": [],
   "source": []
  }
 ],
 "metadata": {
  "kernelspec": {
   "display_name": "Python 3 (ipykernel)",
   "language": "python",
   "name": "python3"
  },
  "language_info": {
   "codemirror_mode": {
    "name": "ipython",
    "version": 3
   },
   "file_extension": ".py",
   "mimetype": "text/x-python",
   "name": "python",
   "nbconvert_exporter": "python",
   "pygments_lexer": "ipython3",
   "version": "3.13.1"
  }
 },
 "nbformat": 4,
 "nbformat_minor": 5
}
